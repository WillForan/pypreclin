{
  "nbformat_minor": 0, 
  "nbformat": 4, 
  "cells": [
    {
      "execution_count": null, 
      "cell_type": "code", 
      "source": [
        "%matplotlib inline"
      ], 
      "outputs": [], 
      "metadata": {
        "collapsed": false
      }
    }, 
    {
      "source": [
        "\npypreclin preprocessing\n=======================\n\nCredit: A Grigis & J Tasserie\n\nThe preprocessing and analysis of nonhuman primate (NHP) magnetic resonance\nimaging (MRI) data presents some unique challenges.\n\n1. non standard orientation, sphinx position.\n2. strong intensity bias.\n3. non brain tissues.\n\nOver the years, we have created our own custom solution that solves these\nproblems.\n\nThis example shows how to preprocess a functional timeserie without\nfielmap or reverse phase encoded images. One can inpsect the called function to\napply only a single step.\n\nFirst checks\n------------\n\nIn order to test if the 'pypreclin' package is installed on your machine, you\ncan try to import it.\n\n"
      ], 
      "cell_type": "markdown", 
      "metadata": {}
    }, 
    {
      "execution_count": null, 
      "cell_type": "code", 
      "source": [
        "import os\nfrom pypreclin.workflow.preproc_fmri import preproc\nfrom pprint import pprint"
      ], 
      "outputs": [], 
      "metadata": {
        "collapsed": false
      }
    }, 
    {
      "source": [
        "Load a test dataset\n-------------------\n\nNow load a toy single run dataset with 10 volumes (it will be faster).\nWe assume here that in your current working directory you have a functional\ndata 'func.nii', a structural data 'anat.nii' and a template\n'mni-resampled_1by1by1.nii'.\n\nNote: pypreclin needs external softwares. If you want to install them from\nyour terminal on an Ubuntu computer you can run the following commands:\n\nsudo apt install fsl-5.0-complete ants -y\nsudo ln -s /usr/lib/ants/N4BiasFieldCorrection /usr/bin\nwget https://www.nitrc.org/frs/download.php/7446/jip-Linux-x86_64.tar.gz\ntar xvzf jip-Linux-x86_64.tar.gz \nrm jip-Linux-x86_64.tar.gz\n\nIn order to avoid the installation\nof all dependencies, please use the provided container.\n\n"
      ], 
      "cell_type": "markdown", 
      "metadata": {}
    }, 
    {
      "execution_count": null, 
      "cell_type": "code", 
      "source": [
        "rootdir = os.getcwd()\nfuncfile = os.path.join(rootdir, \"func.nii\")\nanatfile = os.path.join(rootdir, \"anat.nii\")\ntemplate = os.path.join(rootdir, \"mni-resampled_1by1by1.nii\")\nfor path in (funcfile, anatfile, template):\n    if not os.path.isfile(path):\n        raise ValueError(\"You must specify the input data '{0}'.\".format(path))\nsid = \"test\"\ntr = 2.4\noutdir = os.path.join(rootdir, \"outputs\")\nif not os.path.isdir(outdir):\n    os.mkdir(outdir)\njipdir = os.path.join(rootdir, \"jip-Linux-x86_64\", \"bin\")\nif not os.path.isdir(jipdir):\n    raise ValueError(\"Download JIP binaries before starting.\")\nfslconf = \"/etc/fsl/fsl.sh\"\nif not os.path.isfile(fslconf):\n    raise ValueError(\"Install FSL before starting.\")"
      ], 
      "outputs": [], 
      "metadata": {
        "collapsed": false
      }
    }, 
    {
      "source": [
        "Run\n---\n\nFinally run all the prepocessing steps.\n\n"
      ], 
      "cell_type": "markdown", 
      "metadata": {}
    }, 
    {
      "execution_count": null, 
      "cell_type": "code", 
      "source": [
        "outputs = preproc(\n        funcfile=funcfile,\n        anatfile=anatfile,\n        sid=sid,\n        outdir=outdir,\n        repetitiontime=tr,\n        template=template,\n        jipdir=jipdir,\n        erase=False,\n        resample=False,\n        interleaved=False,\n        sliceorder=\"ascending\",\n        realign_dof=6,\n        realign_to_vol=True,\n        warp=False,\n        warp_njobs=1,\n        warp_index=8,\n        warp_file=None,\n        warp_restrict=[0, 1, 0],\n        delta_te=None,\n        dwell_time=None,\n        manufacturer=None,\n        blip_files=None,\n        blip_enc_dirs=None,\n        unwarp_direction=None,\n        phase_file=None,\n        magnitude_file=None,\n        anatorient=\"RIA\",\n        funcorient=\"RIA\",\n        kernel_size=3,\n        fslconfig=fslconf,\n        normalization_trf=None,\n        coregistration_trf=None,\n        recon1=False,\n        recon2=False,\n        auto=True,\n        verbose=2)\npprint(outputs)"
      ], 
      "outputs": [], 
      "metadata": {
        "collapsed": false
      }
    }
  ], 
  "metadata": {
    "kernelspec": {
      "display_name": "Python 2", 
      "name": "python2", 
      "language": "python"
    }, 
    "language_info": {
      "mimetype": "text/x-python", 
      "nbconvert_exporter": "python", 
      "name": "python", 
      "file_extension": ".py", 
      "version": "2.7.12", 
      "pygments_lexer": "ipython2", 
      "codemirror_mode": {
        "version": 2, 
        "name": "ipython"
      }
    }
  }
}